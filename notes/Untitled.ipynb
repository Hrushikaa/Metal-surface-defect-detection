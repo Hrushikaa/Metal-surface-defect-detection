version https://git-lfs.github.com/spec/v1
oid sha256:a9c28251da29821d59a2dff3be111cfe76ac1d580f24e4bfaccb7146fb593c5a
size 30699
