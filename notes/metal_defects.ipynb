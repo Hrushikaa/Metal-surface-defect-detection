version https://git-lfs.github.com/spec/v1
oid sha256:6108c5cd7dedf3f12c02064a7462f3955a1426b9def4541122a3477bb5478c53
size 328991
