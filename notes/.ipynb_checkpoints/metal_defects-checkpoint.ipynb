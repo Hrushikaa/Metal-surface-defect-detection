version https://git-lfs.github.com/spec/v1
oid sha256:2e87cbc4e1e58a38db08435a89c9517122efc968cd65ac79d5bae49d9431b26e
size 353661
